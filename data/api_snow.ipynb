{
  "nbformat": 4,
  "nbformat_minor": 0,
  "metadata": {
    "colab": {
      "name": "api-snow.ipynb",
      "provenance": [],
      "collapsed_sections": []
    },
    "kernelspec": {
      "name": "python3",
      "display_name": "Python 3"
    },
    "language_info": {
      "name": "python"
    }
  },
  "cells": [
    {
      "cell_type": "markdown",
      "source": [
        "## ASOS data\n",
        "\n"
      ],
      "metadata": {
        "id": "A44Nrz2xlZnR"
      }
    },
    {
      "cell_type": "code",
      "execution_count": 42,
      "metadata": {
        "id": "dWKhfGXNlU7z"
      },
      "outputs": [],
      "source": [
        "import requests\n",
        "from urllib import parse\n",
        "import requests\n",
        "from bs4 import BeautifulSoup\n",
        "import pandas as pd\n",
        "import datetime as d\n",
        "import numpy as np\n",
        "from tqdm import tqdm"
      ]
    },
    {
      "cell_type": "code",
      "source": [
        "url = 'http://apis.data.go.kr/1360000/AsosHourlyInfoService/getWthrDataList'\n",
        "key = 'SqhNwAXk7Yr%2FbTn5Fi293%2BkNasMB8X00NPpYmWg3ruCPvqgUOR6C7IWc13dkJ2N0b9DAgyLgJEcdLC%2F3xybDLw%3D%3D'"
      ],
      "metadata": {
        "id": "SRE2_QPElgxu"
      },
      "execution_count": 2,
      "outputs": []
    },
    {
      "cell_type": "code",
      "source": [
        "params = f'?{parse.quote_plus(\"ServiceKey\")}={key}&' + parse.urlencode({\n",
        "    parse.quote_plus('pageNo') : '1', \n",
        "    parse.quote_plus('numOfRows') : '10', \n",
        "    parse.quote_plus('dataType') : 'XML', \n",
        "    parse.quote_plus('dataCd') : 'ASOS', \n",
        "    parse.quote_plus('dateCd') : 'HR', \n",
        "    parse.quote_plus('startDt') : '20211225', \n",
        "    parse.quote_plus('startHh') : '00', \n",
        "    parse.quote_plus('endDt') : '20211226', \n",
        "    parse.quote_plus('endHh') : '01', \n",
        "    parse.quote_plus('stnIds') : '104' \n",
        "    })"
      ],
      "metadata": {
        "id": "GrfK3LoaliHC"
      },
      "execution_count": 3,
      "outputs": []
    },
    {
      "cell_type": "code",
      "source": [
        "response = requests.get(url + params).text\n",
        "#response = requests.get(url + params)\n",
        "#.text.encode('utf-8')\n",
        "print(url + params)"
      ],
      "metadata": {
        "colab": {
          "base_uri": "https://localhost:8080/"
        },
        "id": "uHPp7fJ-ljuO",
        "outputId": "f19e6d88-43ab-4cec-8b9b-cf718dac9525"
      },
      "execution_count": 4,
      "outputs": [
        {
          "output_type": "stream",
          "name": "stdout",
          "text": [
            "http://apis.data.go.kr/1360000/AsosHourlyInfoService/getWthrDataList?ServiceKey=SqhNwAXk7Yr%2FbTn5Fi293%2BkNasMB8X00NPpYmWg3ruCPvqgUOR6C7IWc13dkJ2N0b9DAgyLgJEcdLC%2F3xybDLw%3D%3D&pageNo=1&numOfRows=10&dataType=XML&dataCd=ASOS&dateCd=HR&startDt=20211225&startHh=00&endDt=20211226&endHh=01&stnIds=104\n"
          ]
        }
      ]
    },
    {
      "cell_type": "code",
      "source": [
        "soup = BeautifulSoup(response, 'html.parser')\n",
        "tm = soup.select('body > items > item > tm')         #현상시간\n",
        "dmstMtphNo = soup.select('body > items > item > dmstmtphno') #현상번호\n",
        "stnnm = soup.select('body > items > item > stnnm')    #지점"
      ],
      "metadata": {
        "id": "E1sJgbmClnMH"
      },
      "execution_count": 26,
      "outputs": []
    },
    {
      "cell_type": "code",
      "source": [
        "item = soup.select('body > items > item')\n",
        "item"
      ],
      "metadata": {
        "colab": {
          "base_uri": "https://localhost:8080/"
        },
        "id": "wFo-uqhflpNP",
        "outputId": "d836901b-217a-4c2a-f92e-768df809094c"
      },
      "execution_count": 17,
      "outputs": [
        {
          "output_type": "execute_result",
          "data": {
            "text/plain": [
              "[<item><tm>2021-12-25 00:00</tm><rnum>1</rnum><stnid>104</stnid><stnnm>북강릉</stnnm><ta>0.4</ta><taqcflg></taqcflg><rn>11.6</rn><rnqcflg></rnqcflg><ws>1.5</ws><wsqcflg></wsqcflg><wd>320</wd><wdqcflg></wdqcflg><hm>99</hm><hmqcflg></hmqcflg><pv>6.2</pv><td>0.2</td><pa>1011.2</pa><paqcflg></paqcflg><ps>1020.7</ps><psqcflg></psqcflg><ss></ss><ssqcflg>9</ssqcflg><icsr></icsr><dsnw>12.9</dsnw><hr3fhsc>11.9</hr3fhsc><dc10tca>10</dc10tca><dc10lmcsca>10</dc10lmcsca><clfmabbrcd>St</clfmabbrcd><lcsch>1</lcsch><vs>120</vs><gndsttcd></gndsttcd><dmstmtphno>05</dmstmtphno><ts>0.4</ts><tsqcflg></tsqcflg><m005te>1.6</m005te><m01te>2.6</m01te><m02te>4.0</m02te><m03te>4.6</m03te></item>,\n",
              " <item><tm>2021-12-25 01:00</tm><rnum>2</rnum><stnid>104</stnid><stnnm>북강릉</stnnm><ta>0.2</ta><taqcflg></taqcflg><rn></rn><rnqcflg>9</rnqcflg><ws></ws><wsqcflg>9</wsqcflg><wd></wd><wdqcflg>9</wdqcflg><hm>98</hm><hmqcflg></hmqcflg><pv>6.1</pv><td>0.0</td><pa>1011.0</pa><paqcflg></paqcflg><ps>1020.5</ps><psqcflg></psqcflg><ss></ss><ssqcflg>9</ssqcflg><icsr></icsr><dsnw>16.9</dsnw><hr3fhsc></hr3fhsc><dc10tca>10</dc10tca><dc10lmcsca>10</dc10lmcsca><clfmabbrcd>St</clfmabbrcd><lcsch>1</lcsch><vs>77</vs><gndsttcd></gndsttcd><dmstmtphno>05</dmstmtphno><ts>0.4</ts><tsqcflg></tsqcflg><m005te>1.5</m005te><m01te>2.5</m01te><m02te>3.9</m02te><m03te>4.6</m03te></item>,\n",
              " <item><tm>2021-12-25 02:00</tm><rnum>3</rnum><stnid>104</stnid><stnnm>북강릉</stnnm><ta>-0.1</ta><taqcflg></taqcflg><rn></rn><rnqcflg>9</rnqcflg><ws></ws><wsqcflg>9</wsqcflg><wd></wd><wdqcflg>9</wdqcflg><hm>98</hm><hmqcflg></hmqcflg><pv>6.0</pv><td>-0.3</td><pa>1011.4</pa><paqcflg></paqcflg><ps>1020.9</ps><psqcflg></psqcflg><ss></ss><ssqcflg>9</ssqcflg><icsr></icsr><dsnw>19.3</dsnw><hr3fhsc></hr3fhsc><dc10tca>10</dc10tca><dc10lmcsca>10</dc10lmcsca><clfmabbrcd>St</clfmabbrcd><lcsch>1</lcsch><vs>136</vs><gndsttcd></gndsttcd><dmstmtphno>05</dmstmtphno><ts>0.3</ts><tsqcflg></tsqcflg><m005te>1.5</m005te><m01te>2.4</m01te><m02te>3.8</m02te><m03te>4.6</m03te></item>,\n",
              " <item><tm>2021-12-25 03:00</tm><rnum>4</rnum><stnid>104</stnid><stnnm>북강릉</stnnm><ta>-0.4</ta><taqcflg></taqcflg><rn>7.7</rn><rnqcflg></rnqcflg><ws></ws><wsqcflg>9</wsqcflg><wd></wd><wdqcflg>9</wdqcflg><hm>98</hm><hmqcflg></hmqcflg><pv>5.8</pv><td>-0.6</td><pa>1011.6</pa><paqcflg></paqcflg><ps>1021.1</ps><psqcflg></psqcflg><ss></ss><ssqcflg>9</ssqcflg><icsr></icsr><dsnw>24.0</dsnw><hr3fhsc>11.1</hr3fhsc><dc10tca>10</dc10tca><dc10lmcsca>10</dc10lmcsca><clfmabbrcd>St</clfmabbrcd><lcsch>1</lcsch><vs>36</vs><gndsttcd></gndsttcd><dmstmtphno>05</dmstmtphno><ts>0.3</ts><tsqcflg></tsqcflg><m005te>1.4</m005te><m01te>2.4</m01te><m02te>3.8</m02te><m03te>4.6</m03te></item>,\n",
              " <item><tm>2021-12-25 04:00</tm><rnum>5</rnum><stnid>104</stnid><stnnm>북강릉</stnnm><ta>-0.5</ta><taqcflg></taqcflg><rn></rn><rnqcflg>9</rnqcflg><ws></ws><wsqcflg>9</wsqcflg><wd></wd><wdqcflg>9</wdqcflg><hm>98</hm><hmqcflg></hmqcflg><pv>5.8</pv><td>-0.7</td><pa>1011.7</pa><paqcflg></paqcflg><ps>1021.2</ps><psqcflg></psqcflg><ss></ss><ssqcflg>9</ssqcflg><icsr></icsr><dsnw>32.0</dsnw><hr3fhsc></hr3fhsc><dc10tca>10</dc10tca><dc10lmcsca>10</dc10lmcsca><clfmabbrcd>St</clfmabbrcd><lcsch>1</lcsch><vs>42</vs><gndsttcd></gndsttcd><dmstmtphno>05</dmstmtphno><ts>0.3</ts><tsqcflg></tsqcflg><m005te>1.4</m005te><m01te>2.3</m01te><m02te>3.7</m02te><m03te>4.6</m03te></item>,\n",
              " <item><tm>2021-12-25 05:00</tm><rnum>6</rnum><stnid>104</stnid><stnnm>북강릉</stnnm><ta>-0.8</ta><taqcflg></taqcflg><rn></rn><rnqcflg>9</rnqcflg><ws></ws><wsqcflg></wsqcflg><wd></wd><wdqcflg></wdqcflg><hm>98</hm><hmqcflg></hmqcflg><pv>5.7</pv><td>-1.0</td><pa>1011.8</pa><paqcflg></paqcflg><ps>1021.4</ps><psqcflg></psqcflg><ss></ss><ssqcflg></ssqcflg><icsr></icsr><dsnw>35.1</dsnw><hr3fhsc></hr3fhsc><dc10tca>10</dc10tca><dc10lmcsca>10</dc10lmcsca><clfmabbrcd>St</clfmabbrcd><lcsch>1</lcsch><vs>334</vs><gndsttcd></gndsttcd><dmstmtphno>05</dmstmtphno><ts>0.4</ts><tsqcflg></tsqcflg><m005te>1.4</m005te><m01te>2.3</m01te><m02te>3.7</m02te><m03te>4.5</m03te></item>,\n",
              " <item><tm>2021-12-25 06:00</tm><rnum>7</rnum><stnid>104</stnid><stnnm>북강릉</stnnm><ta>-1.0</ta><taqcflg></taqcflg><rn>10.2</rn><rnqcflg></rnqcflg><ws></ws><wsqcflg></wsqcflg><wd></wd><wdqcflg></wdqcflg><hm>96</hm><hmqcflg></hmqcflg><pv>5.5</pv><td>-1.5</td><pa>1012.4</pa><paqcflg></paqcflg><ps>1022.0</ps><psqcflg></psqcflg><ss></ss><ssqcflg></ssqcflg><icsr></icsr><dsnw>35.3</dsnw><hr3fhsc>13.0</hr3fhsc><dc10tca>10</dc10tca><dc10lmcsca>10</dc10lmcsca><clfmabbrcd>St</clfmabbrcd><lcsch>1</lcsch><vs>508</vs><gndsttcd></gndsttcd><dmstmtphno>05</dmstmtphno><ts>0.4</ts><tsqcflg></tsqcflg><m005te>1.3</m005te><m01te>2.2</m01te><m02te>3.6</m02te><m03te>4.5</m03te></item>,\n",
              " <item><tm>2021-12-25 07:00</tm><rnum>8</rnum><stnid>104</stnid><stnnm>북강릉</stnnm><ta>-2.4</ta><taqcflg></taqcflg><rn></rn><rnqcflg>9</rnqcflg><ws></ws><wsqcflg></wsqcflg><wd></wd><wdqcflg></wdqcflg><hm>83</hm><hmqcflg></hmqcflg><pv>4.3</pv><td>-4.8</td><pa>1013.2</pa><paqcflg></paqcflg><ps>1022.8</ps><psqcflg></psqcflg><ss></ss><ssqcflg></ssqcflg><icsr></icsr><dsnw>35.0</dsnw><hr3fhsc></hr3fhsc><dc10tca>9</dc10tca><dc10lmcsca>9</dc10lmcsca><clfmabbrcd>St</clfmabbrcd><lcsch>4</lcsch><vs>1047</vs><gndsttcd></gndsttcd><dmstmtphno>05</dmstmtphno><ts>0.4</ts><tsqcflg></tsqcflg><m005te>1.3</m005te><m01te>2.2</m01te><m02te>3.6</m02te><m03te>4.5</m03te></item>,\n",
              " <item><tm>2021-12-25 08:00</tm><rnum>9</rnum><stnid>104</stnid><stnnm>북강릉</stnnm><ta>-2.6</ta><taqcflg></taqcflg><rn></rn><rnqcflg>9</rnqcflg><ws></ws><wsqcflg>9</wsqcflg><wd></wd><wdqcflg>9</wdqcflg><hm>84</hm><hmqcflg></hmqcflg><pv>4.2</pv><td>-4.9</td><pa>1014.1</pa><paqcflg></paqcflg><ps>1023.7</ps><psqcflg></psqcflg><ss>0.0</ss><ssqcflg></ssqcflg><icsr>0.0</icsr><dsnw>34.5</dsnw><hr3fhsc></hr3fhsc><dc10tca>8</dc10tca><dc10lmcsca>8</dc10lmcsca><clfmabbrcd>Sc</clfmabbrcd><lcsch>5</lcsch><vs>961</vs><gndsttcd></gndsttcd><dmstmtphno>1905</dmstmtphno><ts>0.4</ts><tsqcflg></tsqcflg><m005te>1.3</m005te><m01te>2.1</m01te><m02te>3.5</m02te><m03te>4.4</m03te></item>,\n",
              " <item><tm>2021-12-25 09:00</tm><rnum>10</rnum><stnid>104</stnid><stnnm>북강릉</stnnm><ta>-3.8</ta><taqcflg></taqcflg><rn>0.1</rn><rnqcflg></rnqcflg><ws></ws><wsqcflg>9</wsqcflg><wd></wd><wdqcflg>9</wdqcflg><hm>80</hm><hmqcflg></hmqcflg><pv>3.7</pv><td>-6.7</td><pa>1014.5</pa><paqcflg></paqcflg><ps>1024.2</ps><psqcflg></psqcflg><ss>0.0</ss><ssqcflg></ssqcflg><icsr>0.0</icsr><dsnw>34.2</dsnw><hr3fhsc>0.0</hr3fhsc><dc10tca>9</dc10tca><dc10lmcsca>9</dc10lmcsca><clfmabbrcd>Sc</clfmabbrcd><lcsch>13</lcsch><vs>1333</vs><gndsttcd></gndsttcd><dmstmtphno>19</dmstmtphno><ts>0.5</ts><tsqcflg></tsqcflg><m005te>1.3</m005te><m01te>2.1</m01te><m02te>3.5</m02te><m03te>4.4</m03te></item>]"
            ]
          },
          "metadata": {},
          "execution_count": 17
        }
      ]
    },
    {
      "cell_type": "code",
      "source": [
        "item = soup.select('body > items > item > dmstmtphno')\n",
        "item"
      ],
      "metadata": {
        "colab": {
          "base_uri": "https://localhost:8080/"
        },
        "id": "HS_cavMNAraq",
        "outputId": "9ac62924-1044-4959-86e9-ee821e589901"
      },
      "execution_count": 25,
      "outputs": [
        {
          "output_type": "execute_result",
          "data": {
            "text/plain": [
              "[<dmstmtphno>05</dmstmtphno>,\n",
              " <dmstmtphno>05</dmstmtphno>,\n",
              " <dmstmtphno>05</dmstmtphno>,\n",
              " <dmstmtphno>05</dmstmtphno>,\n",
              " <dmstmtphno>05</dmstmtphno>,\n",
              " <dmstmtphno>05</dmstmtphno>,\n",
              " <dmstmtphno>05</dmstmtphno>,\n",
              " <dmstmtphno>05</dmstmtphno>,\n",
              " <dmstmtphno>1905</dmstmtphno>,\n",
              " <dmstmtphno>19</dmstmtphno>]"
            ]
          },
          "metadata": {},
          "execution_count": 25
        }
      ]
    },
    {
      "cell_type": "code",
      "source": [
        "rows = []\n",
        "for idx in range(len(tm)):\n",
        "    rows.append({\"tm\": tm[idx], \n",
        "                 \"dmstMtphNo\": dmstMtphNo[idx], \n",
        "                 \"stnnm\": stnnm[idx]\n",
        "                 })"
      ],
      "metadata": {
        "id": "VztRNXJxlrgS"
      },
      "execution_count": 28,
      "outputs": []
    },
    {
      "cell_type": "code",
      "source": [
        "columns = [\"tm\", \"dmstMtphNo\", \"stnnm\"]\n",
        "catalog_cd_df = pd.DataFrame(rows, columns = columns)\n",
        "catalog_cd_df.head(10)"
      ],
      "metadata": {
        "colab": {
          "base_uri": "https://localhost:8080/",
          "height": 363
        },
        "id": "Le-5gXXFltBw",
        "outputId": "93903da9-e708-43eb-a04a-3062d6bdbbee"
      },
      "execution_count": 30,
      "outputs": [
        {
          "output_type": "execute_result",
          "data": {
            "text/html": [
              "\n",
              "  <div id=\"df-a09272c5-5b2b-40b9-bc84-b8eee3287c55\">\n",
              "    <div class=\"colab-df-container\">\n",
              "      <div>\n",
              "<style scoped>\n",
              "    .dataframe tbody tr th:only-of-type {\n",
              "        vertical-align: middle;\n",
              "    }\n",
              "\n",
              "    .dataframe tbody tr th {\n",
              "        vertical-align: top;\n",
              "    }\n",
              "\n",
              "    .dataframe thead th {\n",
              "        text-align: right;\n",
              "    }\n",
              "</style>\n",
              "<table border=\"1\" class=\"dataframe\">\n",
              "  <thead>\n",
              "    <tr style=\"text-align: right;\">\n",
              "      <th></th>\n",
              "      <th>tm</th>\n",
              "      <th>dmstMtphNo</th>\n",
              "      <th>stnnm</th>\n",
              "    </tr>\n",
              "  </thead>\n",
              "  <tbody>\n",
              "    <tr>\n",
              "      <th>0</th>\n",
              "      <td>[2021-12-25 00:00]</td>\n",
              "      <td>[05]</td>\n",
              "      <td>[북강릉]</td>\n",
              "    </tr>\n",
              "    <tr>\n",
              "      <th>1</th>\n",
              "      <td>[2021-12-25 01:00]</td>\n",
              "      <td>[05]</td>\n",
              "      <td>[북강릉]</td>\n",
              "    </tr>\n",
              "    <tr>\n",
              "      <th>2</th>\n",
              "      <td>[2021-12-25 02:00]</td>\n",
              "      <td>[05]</td>\n",
              "      <td>[북강릉]</td>\n",
              "    </tr>\n",
              "    <tr>\n",
              "      <th>3</th>\n",
              "      <td>[2021-12-25 03:00]</td>\n",
              "      <td>[05]</td>\n",
              "      <td>[북강릉]</td>\n",
              "    </tr>\n",
              "    <tr>\n",
              "      <th>4</th>\n",
              "      <td>[2021-12-25 04:00]</td>\n",
              "      <td>[05]</td>\n",
              "      <td>[북강릉]</td>\n",
              "    </tr>\n",
              "    <tr>\n",
              "      <th>5</th>\n",
              "      <td>[2021-12-25 05:00]</td>\n",
              "      <td>[05]</td>\n",
              "      <td>[북강릉]</td>\n",
              "    </tr>\n",
              "    <tr>\n",
              "      <th>6</th>\n",
              "      <td>[2021-12-25 06:00]</td>\n",
              "      <td>[05]</td>\n",
              "      <td>[북강릉]</td>\n",
              "    </tr>\n",
              "    <tr>\n",
              "      <th>7</th>\n",
              "      <td>[2021-12-25 07:00]</td>\n",
              "      <td>[05]</td>\n",
              "      <td>[북강릉]</td>\n",
              "    </tr>\n",
              "    <tr>\n",
              "      <th>8</th>\n",
              "      <td>[2021-12-25 08:00]</td>\n",
              "      <td>[1905]</td>\n",
              "      <td>[북강릉]</td>\n",
              "    </tr>\n",
              "    <tr>\n",
              "      <th>9</th>\n",
              "      <td>[2021-12-25 09:00]</td>\n",
              "      <td>[19]</td>\n",
              "      <td>[북강릉]</td>\n",
              "    </tr>\n",
              "  </tbody>\n",
              "</table>\n",
              "</div>\n",
              "      <button class=\"colab-df-convert\" onclick=\"convertToInteractive('df-a09272c5-5b2b-40b9-bc84-b8eee3287c55')\"\n",
              "              title=\"Convert this dataframe to an interactive table.\"\n",
              "              style=\"display:none;\">\n",
              "        \n",
              "  <svg xmlns=\"http://www.w3.org/2000/svg\" height=\"24px\"viewBox=\"0 0 24 24\"\n",
              "       width=\"24px\">\n",
              "    <path d=\"M0 0h24v24H0V0z\" fill=\"none\"/>\n",
              "    <path d=\"M18.56 5.44l.94 2.06.94-2.06 2.06-.94-2.06-.94-.94-2.06-.94 2.06-2.06.94zm-11 1L8.5 8.5l.94-2.06 2.06-.94-2.06-.94L8.5 2.5l-.94 2.06-2.06.94zm10 10l.94 2.06.94-2.06 2.06-.94-2.06-.94-.94-2.06-.94 2.06-2.06.94z\"/><path d=\"M17.41 7.96l-1.37-1.37c-.4-.4-.92-.59-1.43-.59-.52 0-1.04.2-1.43.59L10.3 9.45l-7.72 7.72c-.78.78-.78 2.05 0 2.83L4 21.41c.39.39.9.59 1.41.59.51 0 1.02-.2 1.41-.59l7.78-7.78 2.81-2.81c.8-.78.8-2.07 0-2.86zM5.41 20L4 18.59l7.72-7.72 1.47 1.35L5.41 20z\"/>\n",
              "  </svg>\n",
              "      </button>\n",
              "      \n",
              "  <style>\n",
              "    .colab-df-container {\n",
              "      display:flex;\n",
              "      flex-wrap:wrap;\n",
              "      gap: 12px;\n",
              "    }\n",
              "\n",
              "    .colab-df-convert {\n",
              "      background-color: #E8F0FE;\n",
              "      border: none;\n",
              "      border-radius: 50%;\n",
              "      cursor: pointer;\n",
              "      display: none;\n",
              "      fill: #1967D2;\n",
              "      height: 32px;\n",
              "      padding: 0 0 0 0;\n",
              "      width: 32px;\n",
              "    }\n",
              "\n",
              "    .colab-df-convert:hover {\n",
              "      background-color: #E2EBFA;\n",
              "      box-shadow: 0px 1px 2px rgba(60, 64, 67, 0.3), 0px 1px 3px 1px rgba(60, 64, 67, 0.15);\n",
              "      fill: #174EA6;\n",
              "    }\n",
              "\n",
              "    [theme=dark] .colab-df-convert {\n",
              "      background-color: #3B4455;\n",
              "      fill: #D2E3FC;\n",
              "    }\n",
              "\n",
              "    [theme=dark] .colab-df-convert:hover {\n",
              "      background-color: #434B5C;\n",
              "      box-shadow: 0px 1px 3px 1px rgba(0, 0, 0, 0.15);\n",
              "      filter: drop-shadow(0px 1px 2px rgba(0, 0, 0, 0.3));\n",
              "      fill: #FFFFFF;\n",
              "    }\n",
              "  </style>\n",
              "\n",
              "      <script>\n",
              "        const buttonEl =\n",
              "          document.querySelector('#df-a09272c5-5b2b-40b9-bc84-b8eee3287c55 button.colab-df-convert');\n",
              "        buttonEl.style.display =\n",
              "          google.colab.kernel.accessAllowed ? 'block' : 'none';\n",
              "\n",
              "        async function convertToInteractive(key) {\n",
              "          const element = document.querySelector('#df-a09272c5-5b2b-40b9-bc84-b8eee3287c55');\n",
              "          const dataTable =\n",
              "            await google.colab.kernel.invokeFunction('convertToInteractive',\n",
              "                                                     [key], {});\n",
              "          if (!dataTable) return;\n",
              "\n",
              "          const docLinkHtml = 'Like what you see? Visit the ' +\n",
              "            '<a target=\"_blank\" href=https://colab.research.google.com/notebooks/data_table.ipynb>data table notebook</a>'\n",
              "            + ' to learn more about interactive tables.';\n",
              "          element.innerHTML = '';\n",
              "          dataTable['output_type'] = 'display_data';\n",
              "          await google.colab.output.renderOutput(dataTable, element);\n",
              "          const docLink = document.createElement('div');\n",
              "          docLink.innerHTML = docLinkHtml;\n",
              "          element.appendChild(docLink);\n",
              "        }\n",
              "      </script>\n",
              "    </div>\n",
              "  </div>\n",
              "  "
            ],
            "text/plain": [
              "                   tm dmstMtphNo  stnnm\n",
              "0  [2021-12-25 00:00]       [05]  [북강릉]\n",
              "1  [2021-12-25 01:00]       [05]  [북강릉]\n",
              "2  [2021-12-25 02:00]       [05]  [북강릉]\n",
              "3  [2021-12-25 03:00]       [05]  [북강릉]\n",
              "4  [2021-12-25 04:00]       [05]  [북강릉]\n",
              "5  [2021-12-25 05:00]       [05]  [북강릉]\n",
              "6  [2021-12-25 06:00]       [05]  [북강릉]\n",
              "7  [2021-12-25 07:00]       [05]  [북강릉]\n",
              "8  [2021-12-25 08:00]     [1905]  [북강릉]\n",
              "9  [2021-12-25 09:00]       [19]  [북강릉]"
            ]
          },
          "metadata": {},
          "execution_count": 30
        }
      ]
    },
    {
      "cell_type": "markdown",
      "source": [
        "## Function for downloading montly data "
      ],
      "metadata": {
        "id": "UXzmYE8hl2V4"
      }
    },
    {
      "cell_type": "code",
      "source": [
        "class makingParam:\n",
        "  def set_my_params(self, date, place):\n",
        "    key = 'SqhNwAXk7Yr%2FbTn5Fi293%2BkNasMB8X00NPpYmWg3ruCPvqgUOR6C7IWc13dkJ2N0b9DAgyLgJEcdLC%2F3xybDLw%3D%3D'\n",
        "    params = f'?{parse.quote_plus(\"ServiceKey\")}={key}&' + parse.urlencode({\n",
        "        parse.quote_plus('pageNo') : '1', \n",
        "        parse.quote_plus('numOfRows') : '24', \n",
        "        parse.quote_plus('dataType') : 'XML', \n",
        "        parse.quote_plus('dataCd') : 'ASOS', \n",
        "        parse.quote_plus('dateCd') : 'HR', \n",
        "        parse.quote_plus('startDt') : str(date), \n",
        "        parse.quote_plus('startHh') : '00', \n",
        "        parse.quote_plus('endDt') : str(int(date)+1), \n",
        "        parse.quote_plus('endHh') : '01', \n",
        "        parse.quote_plus('stnIds') : str(place) \n",
        "    })\n",
        "    return params\n",
        "\n",
        "def download_file(year, month):  \n",
        "    # initialize the date\n",
        "    url = 'http://apis.data.go.kr/1360000/AsosHourlyInfoService/getWthrDataList'\n",
        "    param = makingParam()\n",
        "    if month == 12:\n",
        "        day_count = 31\n",
        "    else:\n",
        "        day_count = (d.date(year, month+1, 1) - d.date(year, month, 1)).days\n",
        "    interval = d.timedelta(minutes=60)\n",
        "    myplaces = [93, 102, 104, 108, 112, 115, 119, 131, 133, 136, 138, 143, \n",
        "             146, 152, 155, 156, 159, 165, 168, 169, 177, 184, 189]\n",
        "\n",
        "    rows = []\n",
        "    for place in tqdm(myplaces):\n",
        "        for i in range(0, 1):\n",
        "            day = i+1          \n",
        "            start_date = d.datetime(year, month, day)\n",
        "            datetime = start_date.strftime(\"%Y%m%d\")\n",
        "            my_param = param.set_my_params(datetime, place)\n",
        "            response = requests.get(url + my_param).text\n",
        "            soup = BeautifulSoup(response, 'html.parser')\n",
        "            tm = soup.select('body > items > item > tm')                 # time\n",
        "            dmstmtphno = soup.select('body > items > item > dmstmtphno') # weather index\n",
        "            for idx in range(len(tm)):\n",
        "                if dmstmtphno[idx].text:\n",
        "                    rows.append({\"time\": tm[idx].text, \n",
        "                                \"point\": place,\n",
        "                                \"num\": dmstmtphno[idx].text                                \n",
        "                                })     \n",
        "    return rows"
      ],
      "metadata": {
        "id": "PPqvyojQldub"
      },
      "execution_count": 113,
      "outputs": []
    },
    {
      "cell_type": "code",
      "source": [
        "my_data = download_file(2022, 1) "
      ],
      "metadata": {
        "colab": {
          "base_uri": "https://localhost:8080/"
        },
        "id": "gViEw1ROEquu",
        "outputId": "f0312c07-aa1b-4cf1-dfba-b05217978a5a"
      },
      "execution_count": 114,
      "outputs": [
        {
          "output_type": "stream",
          "name": "stderr",
          "text": [
            "100%|██████████| 23/23 [00:25<00:00,  1.11s/it]\n"
          ]
        }
      ]
    },
    {
      "cell_type": "code",
      "source": [
        "my_data[:2]"
      ],
      "metadata": {
        "colab": {
          "base_uri": "https://localhost:8080/"
        },
        "id": "uQiCG35oK2xP",
        "outputId": "cbbc3d80-d67d-4732-d7e9-85fac4c7f050"
      },
      "execution_count": 115,
      "outputs": [
        {
          "output_type": "execute_result",
          "data": {
            "text/plain": [
              "[{'num': '01', 'point': 102, 'time': '2022-01-01 16:00'},\n",
              " {'num': '01', 'point': 102, 'time': '2022-01-01 17:00'}]"
            ]
          },
          "metadata": {},
          "execution_count": 115
        }
      ]
    },
    {
      "cell_type": "code",
      "source": [
        "columns = [\"time\", \"point\", \"num\"]\n",
        "df = pd.DataFrame(my_data, columns = columns)\n",
        "df.head(5)"
      ],
      "metadata": {
        "colab": {
          "base_uri": "https://localhost:8080/",
          "height": 206
        },
        "id": "W-mTIAXtKrbj",
        "outputId": "dbd13a38-95c5-4c0d-da07-abc85baaef0f"
      },
      "execution_count": 117,
      "outputs": [
        {
          "output_type": "execute_result",
          "data": {
            "text/html": [
              "\n",
              "  <div id=\"df-dcf45c0f-d63d-4b77-b508-a0eb44585bd2\">\n",
              "    <div class=\"colab-df-container\">\n",
              "      <div>\n",
              "<style scoped>\n",
              "    .dataframe tbody tr th:only-of-type {\n",
              "        vertical-align: middle;\n",
              "    }\n",
              "\n",
              "    .dataframe tbody tr th {\n",
              "        vertical-align: top;\n",
              "    }\n",
              "\n",
              "    .dataframe thead th {\n",
              "        text-align: right;\n",
              "    }\n",
              "</style>\n",
              "<table border=\"1\" class=\"dataframe\">\n",
              "  <thead>\n",
              "    <tr style=\"text-align: right;\">\n",
              "      <th></th>\n",
              "      <th>time</th>\n",
              "      <th>point</th>\n",
              "      <th>num</th>\n",
              "    </tr>\n",
              "  </thead>\n",
              "  <tbody>\n",
              "    <tr>\n",
              "      <th>0</th>\n",
              "      <td>2022-01-01 16:00</td>\n",
              "      <td>102</td>\n",
              "      <td>01</td>\n",
              "    </tr>\n",
              "    <tr>\n",
              "      <th>1</th>\n",
              "      <td>2022-01-01 17:00</td>\n",
              "      <td>102</td>\n",
              "      <td>01</td>\n",
              "    </tr>\n",
              "    <tr>\n",
              "      <th>2</th>\n",
              "      <td>2022-01-01 18:00</td>\n",
              "      <td>102</td>\n",
              "      <td>01</td>\n",
              "    </tr>\n",
              "    <tr>\n",
              "      <th>3</th>\n",
              "      <td>2022-01-01 19:00</td>\n",
              "      <td>102</td>\n",
              "      <td>01</td>\n",
              "    </tr>\n",
              "    <tr>\n",
              "      <th>4</th>\n",
              "      <td>2022-01-01 20:00</td>\n",
              "      <td>102</td>\n",
              "      <td>01</td>\n",
              "    </tr>\n",
              "  </tbody>\n",
              "</table>\n",
              "</div>\n",
              "      <button class=\"colab-df-convert\" onclick=\"convertToInteractive('df-dcf45c0f-d63d-4b77-b508-a0eb44585bd2')\"\n",
              "              title=\"Convert this dataframe to an interactive table.\"\n",
              "              style=\"display:none;\">\n",
              "        \n",
              "  <svg xmlns=\"http://www.w3.org/2000/svg\" height=\"24px\"viewBox=\"0 0 24 24\"\n",
              "       width=\"24px\">\n",
              "    <path d=\"M0 0h24v24H0V0z\" fill=\"none\"/>\n",
              "    <path d=\"M18.56 5.44l.94 2.06.94-2.06 2.06-.94-2.06-.94-.94-2.06-.94 2.06-2.06.94zm-11 1L8.5 8.5l.94-2.06 2.06-.94-2.06-.94L8.5 2.5l-.94 2.06-2.06.94zm10 10l.94 2.06.94-2.06 2.06-.94-2.06-.94-.94-2.06-.94 2.06-2.06.94z\"/><path d=\"M17.41 7.96l-1.37-1.37c-.4-.4-.92-.59-1.43-.59-.52 0-1.04.2-1.43.59L10.3 9.45l-7.72 7.72c-.78.78-.78 2.05 0 2.83L4 21.41c.39.39.9.59 1.41.59.51 0 1.02-.2 1.41-.59l7.78-7.78 2.81-2.81c.8-.78.8-2.07 0-2.86zM5.41 20L4 18.59l7.72-7.72 1.47 1.35L5.41 20z\"/>\n",
              "  </svg>\n",
              "      </button>\n",
              "      \n",
              "  <style>\n",
              "    .colab-df-container {\n",
              "      display:flex;\n",
              "      flex-wrap:wrap;\n",
              "      gap: 12px;\n",
              "    }\n",
              "\n",
              "    .colab-df-convert {\n",
              "      background-color: #E8F0FE;\n",
              "      border: none;\n",
              "      border-radius: 50%;\n",
              "      cursor: pointer;\n",
              "      display: none;\n",
              "      fill: #1967D2;\n",
              "      height: 32px;\n",
              "      padding: 0 0 0 0;\n",
              "      width: 32px;\n",
              "    }\n",
              "\n",
              "    .colab-df-convert:hover {\n",
              "      background-color: #E2EBFA;\n",
              "      box-shadow: 0px 1px 2px rgba(60, 64, 67, 0.3), 0px 1px 3px 1px rgba(60, 64, 67, 0.15);\n",
              "      fill: #174EA6;\n",
              "    }\n",
              "\n",
              "    [theme=dark] .colab-df-convert {\n",
              "      background-color: #3B4455;\n",
              "      fill: #D2E3FC;\n",
              "    }\n",
              "\n",
              "    [theme=dark] .colab-df-convert:hover {\n",
              "      background-color: #434B5C;\n",
              "      box-shadow: 0px 1px 3px 1px rgba(0, 0, 0, 0.15);\n",
              "      filter: drop-shadow(0px 1px 2px rgba(0, 0, 0, 0.3));\n",
              "      fill: #FFFFFF;\n",
              "    }\n",
              "  </style>\n",
              "\n",
              "      <script>\n",
              "        const buttonEl =\n",
              "          document.querySelector('#df-dcf45c0f-d63d-4b77-b508-a0eb44585bd2 button.colab-df-convert');\n",
              "        buttonEl.style.display =\n",
              "          google.colab.kernel.accessAllowed ? 'block' : 'none';\n",
              "\n",
              "        async function convertToInteractive(key) {\n",
              "          const element = document.querySelector('#df-dcf45c0f-d63d-4b77-b508-a0eb44585bd2');\n",
              "          const dataTable =\n",
              "            await google.colab.kernel.invokeFunction('convertToInteractive',\n",
              "                                                     [key], {});\n",
              "          if (!dataTable) return;\n",
              "\n",
              "          const docLinkHtml = 'Like what you see? Visit the ' +\n",
              "            '<a target=\"_blank\" href=https://colab.research.google.com/notebooks/data_table.ipynb>data table notebook</a>'\n",
              "            + ' to learn more about interactive tables.';\n",
              "          element.innerHTML = '';\n",
              "          dataTable['output_type'] = 'display_data';\n",
              "          await google.colab.output.renderOutput(dataTable, element);\n",
              "          const docLink = document.createElement('div');\n",
              "          docLink.innerHTML = docLinkHtml;\n",
              "          element.appendChild(docLink);\n",
              "        }\n",
              "      </script>\n",
              "    </div>\n",
              "  </div>\n",
              "  "
            ],
            "text/plain": [
              "               time  point num\n",
              "0  2022-01-01 16:00    102  01\n",
              "1  2022-01-01 17:00    102  01\n",
              "2  2022-01-01 18:00    102  01\n",
              "3  2022-01-01 19:00    102  01\n",
              "4  2022-01-01 20:00    102  01"
            ]
          },
          "metadata": {},
          "execution_count": 117
        }
      ]
    },
    {
      "cell_type": "code",
      "source": [
        "df.to_csv(\"./test.csv\", header=True, encoding='utf-8')"
      ],
      "metadata": {
        "id": "vbnmQqfFPYCs"
      },
      "execution_count": 118,
      "outputs": []
    },
    {
      "cell_type": "code",
      "source": [
        ""
      ],
      "metadata": {
        "id": "MImqfIxxWixB"
      },
      "execution_count": null,
      "outputs": []
    }
  ]
}