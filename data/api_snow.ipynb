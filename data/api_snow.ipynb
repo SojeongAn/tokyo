{
  "nbformat": 4,
  "nbformat_minor": 0,
  "metadata": {
    "colab": {
      "name": "api-snow.ipynb",
      "provenance": [],
      "collapsed_sections": []
    },
    "kernelspec": {
      "name": "python3",
      "display_name": "Python 3"
    },
    "language_info": {
      "name": "python"
    }
  },
  "cells": [
    {
      "cell_type": "markdown",
      "source": [
        "#ASOS 종관 정보 다운"
      ],
      "metadata": {
        "id": "A44Nrz2xlZnR"
      }
    },
    {
      "cell_type": "code",
      "execution_count": 1,
      "metadata": {
        "id": "dWKhfGXNlU7z"
      },
      "outputs": [],
      "source": [
        "import requests\n",
        "from urllib import parse\n",
        "import requests\n",
        "from bs4 import BeautifulSoup\n",
        "import pandas as pd\n",
        "import datetime as d\n",
        "import numpy as np"
      ]
    },
    {
      "cell_type": "code",
      "source": [
        "url = 'http://apis.data.go.kr/1360000/AsosHourlyInfoService/getWthrDataList'\n",
        "key = 'SqhNwAXk7Yr%2FbTn5Fi293%2BkNasMB8X00NPpYmWg3ruCPvqgUOR6C7IWc13dkJ2N0b9DAgyLgJEcdLC%2F3xybDLw%3D%3D'"
      ],
      "metadata": {
        "id": "SRE2_QPElgxu"
      },
      "execution_count": 2,
      "outputs": []
    },
    {
      "cell_type": "code",
      "source": [
        "params = f'?{parse.quote_plus(\"ServiceKey\")}={key}&' + parse.urlencode({\n",
        "    parse.quote_plus('pageNo') : '1', \n",
        "    parse.quote_plus('numOfRows') : '10', \n",
        "    parse.quote_plus('dataType') : 'XML', \n",
        "    parse.quote_plus('dataCd') : 'ASOS', \n",
        "    parse.quote_plus('dateCd') : 'HR', \n",
        "    parse.quote_plus('startDt') : '20211225', \n",
        "    parse.quote_plus('startHh') : '00', \n",
        "    parse.quote_plus('endDt') : '20211226', \n",
        "    parse.quote_plus('endHh') : '01', \n",
        "    parse.quote_plus('stnIds') : '104' \n",
        "    })"
      ],
      "metadata": {
        "id": "GrfK3LoaliHC"
      },
      "execution_count": 3,
      "outputs": []
    },
    {
      "cell_type": "code",
      "source": [
        "response = requests.get(url + params).text\n",
        "#response = requests.get(url + params)\n",
        "#.text.encode('utf-8')\n",
        "print(url + params)"
      ],
      "metadata": {
        "colab": {
          "base_uri": "https://localhost:8080/",
          "height": 0
        },
        "id": "uHPp7fJ-ljuO",
        "outputId": "8a7f11d9-6661-487c-d4e2-3c419757a1e1"
      },
      "execution_count": 4,
      "outputs": [
        {
          "output_type": "stream",
          "name": "stdout",
          "text": [
            "http://apis.data.go.kr/1360000/AsosHourlyInfoService/getWthrDataList?ServiceKey=SqhNwAXk7Yr%2FbTn5Fi293%2BkNasMB8X00NPpYmWg3ruCPvqgUOR6C7IWc13dkJ2N0b9DAgyLgJEcdLC%2F3xybDLw%3D%3D&pageNo=1&numOfRows=10&dataType=XML&dataCd=ASOS&dateCd=HR&startDt=20211225&startHh=00&endDt=20211226&endHh=01&stnIds=104\n"
          ]
        }
      ]
    },
    {
      "cell_type": "code",
      "source": [
        "soup = BeautifulSoup(response, 'html.parser')\n",
        "tm = soup.select('body > items > item > tm')\n",
        "ta = soup.select('body > items > item > ta')\n",
        "dsnw = soup.select('body > items > item > dsnw')"
      ],
      "metadata": {
        "id": "E1sJgbmClnMH"
      },
      "execution_count": 5,
      "outputs": []
    },
    {
      "cell_type": "code",
      "source": [
        "dsnw = soup.select('body > items > item')\n",
        "dsnw"
      ],
      "metadata": {
        "colab": {
          "base_uri": "https://localhost:8080/",
          "height": 0
        },
        "id": "wFo-uqhflpNP",
        "outputId": "1261d013-82f9-4021-ce9f-d0a15e431bfc"
      },
      "execution_count": 6,
      "outputs": [
        {
          "output_type": "execute_result",
          "data": {
            "text/plain": [
              "[<item><tm>2021-12-25 00:00</tm><rnum>1</rnum><stnid>104</stnid><stnnm>북강릉</stnnm><ta>0.4</ta><taqcflg></taqcflg><rn>11.6</rn><rnqcflg></rnqcflg><ws>1.5</ws><wsqcflg></wsqcflg><wd>320</wd><wdqcflg></wdqcflg><hm>99</hm><hmqcflg></hmqcflg><pv>6.2</pv><td>0.2</td><pa>1011.2</pa><paqcflg></paqcflg><ps>1020.7</ps><psqcflg></psqcflg><ss></ss><ssqcflg>9</ssqcflg><icsr></icsr><dsnw>12.9</dsnw><hr3fhsc>11.9</hr3fhsc><dc10tca>10</dc10tca><dc10lmcsca>10</dc10lmcsca><clfmabbrcd>St</clfmabbrcd><lcsch>1</lcsch><vs>120</vs><gndsttcd></gndsttcd><dmstmtphno>05</dmstmtphno><ts>0.4</ts><tsqcflg></tsqcflg><m005te>1.6</m005te><m01te>2.6</m01te><m02te>4.0</m02te><m03te>4.6</m03te></item>,\n",
              " <item><tm>2021-12-25 01:00</tm><rnum>2</rnum><stnid>104</stnid><stnnm>북강릉</stnnm><ta>0.2</ta><taqcflg></taqcflg><rn></rn><rnqcflg>9</rnqcflg><ws></ws><wsqcflg>9</wsqcflg><wd></wd><wdqcflg>9</wdqcflg><hm>98</hm><hmqcflg></hmqcflg><pv>6.1</pv><td>0.0</td><pa>1011.0</pa><paqcflg></paqcflg><ps>1020.5</ps><psqcflg></psqcflg><ss></ss><ssqcflg>9</ssqcflg><icsr></icsr><dsnw>16.9</dsnw><hr3fhsc></hr3fhsc><dc10tca>10</dc10tca><dc10lmcsca>10</dc10lmcsca><clfmabbrcd>St</clfmabbrcd><lcsch>1</lcsch><vs>77</vs><gndsttcd></gndsttcd><dmstmtphno>05</dmstmtphno><ts>0.4</ts><tsqcflg></tsqcflg><m005te>1.5</m005te><m01te>2.5</m01te><m02te>3.9</m02te><m03te>4.6</m03te></item>,\n",
              " <item><tm>2021-12-25 02:00</tm><rnum>3</rnum><stnid>104</stnid><stnnm>북강릉</stnnm><ta>-0.1</ta><taqcflg></taqcflg><rn></rn><rnqcflg>9</rnqcflg><ws></ws><wsqcflg>9</wsqcflg><wd></wd><wdqcflg>9</wdqcflg><hm>98</hm><hmqcflg></hmqcflg><pv>6.0</pv><td>-0.3</td><pa>1011.4</pa><paqcflg></paqcflg><ps>1020.9</ps><psqcflg></psqcflg><ss></ss><ssqcflg>9</ssqcflg><icsr></icsr><dsnw>19.3</dsnw><hr3fhsc></hr3fhsc><dc10tca>10</dc10tca><dc10lmcsca>10</dc10lmcsca><clfmabbrcd>St</clfmabbrcd><lcsch>1</lcsch><vs>136</vs><gndsttcd></gndsttcd><dmstmtphno>05</dmstmtphno><ts>0.3</ts><tsqcflg></tsqcflg><m005te>1.5</m005te><m01te>2.4</m01te><m02te>3.8</m02te><m03te>4.6</m03te></item>,\n",
              " <item><tm>2021-12-25 03:00</tm><rnum>4</rnum><stnid>104</stnid><stnnm>북강릉</stnnm><ta>-0.4</ta><taqcflg></taqcflg><rn>7.7</rn><rnqcflg></rnqcflg><ws></ws><wsqcflg>9</wsqcflg><wd></wd><wdqcflg>9</wdqcflg><hm>98</hm><hmqcflg></hmqcflg><pv>5.8</pv><td>-0.6</td><pa>1011.6</pa><paqcflg></paqcflg><ps>1021.1</ps><psqcflg></psqcflg><ss></ss><ssqcflg>9</ssqcflg><icsr></icsr><dsnw>24.0</dsnw><hr3fhsc>11.1</hr3fhsc><dc10tca>10</dc10tca><dc10lmcsca>10</dc10lmcsca><clfmabbrcd>St</clfmabbrcd><lcsch>1</lcsch><vs>36</vs><gndsttcd></gndsttcd><dmstmtphno>05</dmstmtphno><ts>0.3</ts><tsqcflg></tsqcflg><m005te>1.4</m005te><m01te>2.4</m01te><m02te>3.8</m02te><m03te>4.6</m03te></item>,\n",
              " <item><tm>2021-12-25 04:00</tm><rnum>5</rnum><stnid>104</stnid><stnnm>북강릉</stnnm><ta>-0.5</ta><taqcflg></taqcflg><rn></rn><rnqcflg>9</rnqcflg><ws></ws><wsqcflg>9</wsqcflg><wd></wd><wdqcflg>9</wdqcflg><hm>98</hm><hmqcflg></hmqcflg><pv>5.8</pv><td>-0.7</td><pa>1011.7</pa><paqcflg></paqcflg><ps>1021.2</ps><psqcflg></psqcflg><ss></ss><ssqcflg>9</ssqcflg><icsr></icsr><dsnw>32.0</dsnw><hr3fhsc></hr3fhsc><dc10tca>10</dc10tca><dc10lmcsca>10</dc10lmcsca><clfmabbrcd>St</clfmabbrcd><lcsch>1</lcsch><vs>42</vs><gndsttcd></gndsttcd><dmstmtphno>05</dmstmtphno><ts>0.3</ts><tsqcflg></tsqcflg><m005te>1.4</m005te><m01te>2.3</m01te><m02te>3.7</m02te><m03te>4.6</m03te></item>,\n",
              " <item><tm>2021-12-25 05:00</tm><rnum>6</rnum><stnid>104</stnid><stnnm>북강릉</stnnm><ta>-0.8</ta><taqcflg></taqcflg><rn></rn><rnqcflg>9</rnqcflg><ws></ws><wsqcflg></wsqcflg><wd></wd><wdqcflg></wdqcflg><hm>98</hm><hmqcflg></hmqcflg><pv>5.7</pv><td>-1.0</td><pa>1011.8</pa><paqcflg></paqcflg><ps>1021.4</ps><psqcflg></psqcflg><ss></ss><ssqcflg></ssqcflg><icsr></icsr><dsnw>35.1</dsnw><hr3fhsc></hr3fhsc><dc10tca>10</dc10tca><dc10lmcsca>10</dc10lmcsca><clfmabbrcd>St</clfmabbrcd><lcsch>1</lcsch><vs>334</vs><gndsttcd></gndsttcd><dmstmtphno>05</dmstmtphno><ts>0.4</ts><tsqcflg></tsqcflg><m005te>1.4</m005te><m01te>2.3</m01te><m02te>3.7</m02te><m03te>4.5</m03te></item>,\n",
              " <item><tm>2021-12-25 06:00</tm><rnum>7</rnum><stnid>104</stnid><stnnm>북강릉</stnnm><ta>-1.0</ta><taqcflg></taqcflg><rn>10.2</rn><rnqcflg></rnqcflg><ws></ws><wsqcflg></wsqcflg><wd></wd><wdqcflg></wdqcflg><hm>96</hm><hmqcflg></hmqcflg><pv>5.5</pv><td>-1.5</td><pa>1012.4</pa><paqcflg></paqcflg><ps>1022.0</ps><psqcflg></psqcflg><ss></ss><ssqcflg></ssqcflg><icsr></icsr><dsnw>35.3</dsnw><hr3fhsc>13.0</hr3fhsc><dc10tca>10</dc10tca><dc10lmcsca>10</dc10lmcsca><clfmabbrcd>St</clfmabbrcd><lcsch>1</lcsch><vs>508</vs><gndsttcd></gndsttcd><dmstmtphno>05</dmstmtphno><ts>0.4</ts><tsqcflg></tsqcflg><m005te>1.3</m005te><m01te>2.2</m01te><m02te>3.6</m02te><m03te>4.5</m03te></item>,\n",
              " <item><tm>2021-12-25 07:00</tm><rnum>8</rnum><stnid>104</stnid><stnnm>북강릉</stnnm><ta>-2.4</ta><taqcflg></taqcflg><rn></rn><rnqcflg>9</rnqcflg><ws></ws><wsqcflg></wsqcflg><wd></wd><wdqcflg></wdqcflg><hm>83</hm><hmqcflg></hmqcflg><pv>4.3</pv><td>-4.8</td><pa>1013.2</pa><paqcflg></paqcflg><ps>1022.8</ps><psqcflg></psqcflg><ss></ss><ssqcflg></ssqcflg><icsr></icsr><dsnw>35.0</dsnw><hr3fhsc></hr3fhsc><dc10tca>9</dc10tca><dc10lmcsca>9</dc10lmcsca><clfmabbrcd>St</clfmabbrcd><lcsch>4</lcsch><vs>1047</vs><gndsttcd></gndsttcd><dmstmtphno>05</dmstmtphno><ts>0.4</ts><tsqcflg></tsqcflg><m005te>1.3</m005te><m01te>2.2</m01te><m02te>3.6</m02te><m03te>4.5</m03te></item>,\n",
              " <item><tm>2021-12-25 08:00</tm><rnum>9</rnum><stnid>104</stnid><stnnm>북강릉</stnnm><ta>-2.6</ta><taqcflg></taqcflg><rn></rn><rnqcflg>9</rnqcflg><ws></ws><wsqcflg>9</wsqcflg><wd></wd><wdqcflg>9</wdqcflg><hm>84</hm><hmqcflg></hmqcflg><pv>4.2</pv><td>-4.9</td><pa>1014.1</pa><paqcflg></paqcflg><ps>1023.7</ps><psqcflg></psqcflg><ss>0.0</ss><ssqcflg></ssqcflg><icsr>0.0</icsr><dsnw>34.5</dsnw><hr3fhsc></hr3fhsc><dc10tca>8</dc10tca><dc10lmcsca>8</dc10lmcsca><clfmabbrcd>Sc</clfmabbrcd><lcsch>5</lcsch><vs>961</vs><gndsttcd></gndsttcd><dmstmtphno>1905</dmstmtphno><ts>0.4</ts><tsqcflg></tsqcflg><m005te>1.3</m005te><m01te>2.1</m01te><m02te>3.5</m02te><m03te>4.4</m03te></item>,\n",
              " <item><tm>2021-12-25 09:00</tm><rnum>10</rnum><stnid>104</stnid><stnnm>북강릉</stnnm><ta>-3.8</ta><taqcflg></taqcflg><rn>0.1</rn><rnqcflg></rnqcflg><ws></ws><wsqcflg>9</wsqcflg><wd></wd><wdqcflg>9</wdqcflg><hm>80</hm><hmqcflg></hmqcflg><pv>3.7</pv><td>-6.7</td><pa>1014.5</pa><paqcflg></paqcflg><ps>1024.2</ps><psqcflg></psqcflg><ss>0.0</ss><ssqcflg></ssqcflg><icsr>0.0</icsr><dsnw>34.2</dsnw><hr3fhsc>0.0</hr3fhsc><dc10tca>9</dc10tca><dc10lmcsca>9</dc10lmcsca><clfmabbrcd>Sc</clfmabbrcd><lcsch>13</lcsch><vs>1333</vs><gndsttcd></gndsttcd><dmstmtphno>19</dmstmtphno><ts>0.5</ts><tsqcflg></tsqcflg><m005te>1.3</m005te><m01te>2.1</m01te><m02te>3.5</m02te><m03te>4.4</m03te></item>]"
            ]
          },
          "metadata": {},
          "execution_count": 6
        }
      ]
    },
    {
      "cell_type": "code",
      "source": [
        "rows = []\n",
        "for idx in range(len(tm)):\n",
        "    rows.append({\"tm\": tm[idx], \n",
        "                 \"ta\": ta[idx], \n",
        "                 \"dsnw\": dsnw[idx]\n",
        "                 })"
      ],
      "metadata": {
        "id": "VztRNXJxlrgS"
      },
      "execution_count": 9,
      "outputs": []
    },
    {
      "cell_type": "code",
      "source": [
        "columns = [\"tm\", \"ta\", \"dsnw\"]\n",
        "catalog_cd_df = pd.DataFrame(rows, columns = columns)\n",
        "catalog_cd_df.head(10)"
      ],
      "metadata": {
        "colab": {
          "base_uri": "https://localhost:8080/",
          "height": 363
        },
        "id": "Le-5gXXFltBw",
        "outputId": "34654e7e-07c6-4c87-becc-e82cac73998e"
      },
      "execution_count": 10,
      "outputs": [
        {
          "output_type": "execute_result",
          "data": {
            "text/html": [
              "\n",
              "  <div id=\"df-67b9ee28-ea59-48ff-8bcd-82da1a9cce32\">\n",
              "    <div class=\"colab-df-container\">\n",
              "      <div>\n",
              "<style scoped>\n",
              "    .dataframe tbody tr th:only-of-type {\n",
              "        vertical-align: middle;\n",
              "    }\n",
              "\n",
              "    .dataframe tbody tr th {\n",
              "        vertical-align: top;\n",
              "    }\n",
              "\n",
              "    .dataframe thead th {\n",
              "        text-align: right;\n",
              "    }\n",
              "</style>\n",
              "<table border=\"1\" class=\"dataframe\">\n",
              "  <thead>\n",
              "    <tr style=\"text-align: right;\">\n",
              "      <th></th>\n",
              "      <th>tm</th>\n",
              "      <th>ta</th>\n",
              "      <th>dsnw</th>\n",
              "    </tr>\n",
              "  </thead>\n",
              "  <tbody>\n",
              "    <tr>\n",
              "      <th>0</th>\n",
              "      <td>[2021-12-25 00:00]</td>\n",
              "      <td>[0.4]</td>\n",
              "      <td>[[2021-12-25 00:00], [1], [104], [북강릉], [0.4],...</td>\n",
              "    </tr>\n",
              "    <tr>\n",
              "      <th>1</th>\n",
              "      <td>[2021-12-25 01:00]</td>\n",
              "      <td>[0.2]</td>\n",
              "      <td>[[2021-12-25 01:00], [2], [104], [북강릉], [0.2],...</td>\n",
              "    </tr>\n",
              "    <tr>\n",
              "      <th>2</th>\n",
              "      <td>[2021-12-25 02:00]</td>\n",
              "      <td>[-0.1]</td>\n",
              "      <td>[[2021-12-25 02:00], [3], [104], [북강릉], [-0.1]...</td>\n",
              "    </tr>\n",
              "    <tr>\n",
              "      <th>3</th>\n",
              "      <td>[2021-12-25 03:00]</td>\n",
              "      <td>[-0.4]</td>\n",
              "      <td>[[2021-12-25 03:00], [4], [104], [북강릉], [-0.4]...</td>\n",
              "    </tr>\n",
              "    <tr>\n",
              "      <th>4</th>\n",
              "      <td>[2021-12-25 04:00]</td>\n",
              "      <td>[-0.5]</td>\n",
              "      <td>[[2021-12-25 04:00], [5], [104], [북강릉], [-0.5]...</td>\n",
              "    </tr>\n",
              "    <tr>\n",
              "      <th>5</th>\n",
              "      <td>[2021-12-25 05:00]</td>\n",
              "      <td>[-0.8]</td>\n",
              "      <td>[[2021-12-25 05:00], [6], [104], [북강릉], [-0.8]...</td>\n",
              "    </tr>\n",
              "    <tr>\n",
              "      <th>6</th>\n",
              "      <td>[2021-12-25 06:00]</td>\n",
              "      <td>[-1.0]</td>\n",
              "      <td>[[2021-12-25 06:00], [7], [104], [북강릉], [-1.0]...</td>\n",
              "    </tr>\n",
              "    <tr>\n",
              "      <th>7</th>\n",
              "      <td>[2021-12-25 07:00]</td>\n",
              "      <td>[-2.4]</td>\n",
              "      <td>[[2021-12-25 07:00], [8], [104], [북강릉], [-2.4]...</td>\n",
              "    </tr>\n",
              "    <tr>\n",
              "      <th>8</th>\n",
              "      <td>[2021-12-25 08:00]</td>\n",
              "      <td>[-2.6]</td>\n",
              "      <td>[[2021-12-25 08:00], [9], [104], [북강릉], [-2.6]...</td>\n",
              "    </tr>\n",
              "    <tr>\n",
              "      <th>9</th>\n",
              "      <td>[2021-12-25 09:00]</td>\n",
              "      <td>[-3.8]</td>\n",
              "      <td>[[2021-12-25 09:00], [10], [104], [북강릉], [-3.8...</td>\n",
              "    </tr>\n",
              "  </tbody>\n",
              "</table>\n",
              "</div>\n",
              "      <button class=\"colab-df-convert\" onclick=\"convertToInteractive('df-67b9ee28-ea59-48ff-8bcd-82da1a9cce32')\"\n",
              "              title=\"Convert this dataframe to an interactive table.\"\n",
              "              style=\"display:none;\">\n",
              "        \n",
              "  <svg xmlns=\"http://www.w3.org/2000/svg\" height=\"24px\"viewBox=\"0 0 24 24\"\n",
              "       width=\"24px\">\n",
              "    <path d=\"M0 0h24v24H0V0z\" fill=\"none\"/>\n",
              "    <path d=\"M18.56 5.44l.94 2.06.94-2.06 2.06-.94-2.06-.94-.94-2.06-.94 2.06-2.06.94zm-11 1L8.5 8.5l.94-2.06 2.06-.94-2.06-.94L8.5 2.5l-.94 2.06-2.06.94zm10 10l.94 2.06.94-2.06 2.06-.94-2.06-.94-.94-2.06-.94 2.06-2.06.94z\"/><path d=\"M17.41 7.96l-1.37-1.37c-.4-.4-.92-.59-1.43-.59-.52 0-1.04.2-1.43.59L10.3 9.45l-7.72 7.72c-.78.78-.78 2.05 0 2.83L4 21.41c.39.39.9.59 1.41.59.51 0 1.02-.2 1.41-.59l7.78-7.78 2.81-2.81c.8-.78.8-2.07 0-2.86zM5.41 20L4 18.59l7.72-7.72 1.47 1.35L5.41 20z\"/>\n",
              "  </svg>\n",
              "      </button>\n",
              "      \n",
              "  <style>\n",
              "    .colab-df-container {\n",
              "      display:flex;\n",
              "      flex-wrap:wrap;\n",
              "      gap: 12px;\n",
              "    }\n",
              "\n",
              "    .colab-df-convert {\n",
              "      background-color: #E8F0FE;\n",
              "      border: none;\n",
              "      border-radius: 50%;\n",
              "      cursor: pointer;\n",
              "      display: none;\n",
              "      fill: #1967D2;\n",
              "      height: 32px;\n",
              "      padding: 0 0 0 0;\n",
              "      width: 32px;\n",
              "    }\n",
              "\n",
              "    .colab-df-convert:hover {\n",
              "      background-color: #E2EBFA;\n",
              "      box-shadow: 0px 1px 2px rgba(60, 64, 67, 0.3), 0px 1px 3px 1px rgba(60, 64, 67, 0.15);\n",
              "      fill: #174EA6;\n",
              "    }\n",
              "\n",
              "    [theme=dark] .colab-df-convert {\n",
              "      background-color: #3B4455;\n",
              "      fill: #D2E3FC;\n",
              "    }\n",
              "\n",
              "    [theme=dark] .colab-df-convert:hover {\n",
              "      background-color: #434B5C;\n",
              "      box-shadow: 0px 1px 3px 1px rgba(0, 0, 0, 0.15);\n",
              "      filter: drop-shadow(0px 1px 2px rgba(0, 0, 0, 0.3));\n",
              "      fill: #FFFFFF;\n",
              "    }\n",
              "  </style>\n",
              "\n",
              "      <script>\n",
              "        const buttonEl =\n",
              "          document.querySelector('#df-67b9ee28-ea59-48ff-8bcd-82da1a9cce32 button.colab-df-convert');\n",
              "        buttonEl.style.display =\n",
              "          google.colab.kernel.accessAllowed ? 'block' : 'none';\n",
              "\n",
              "        async function convertToInteractive(key) {\n",
              "          const element = document.querySelector('#df-67b9ee28-ea59-48ff-8bcd-82da1a9cce32');\n",
              "          const dataTable =\n",
              "            await google.colab.kernel.invokeFunction('convertToInteractive',\n",
              "                                                     [key], {});\n",
              "          if (!dataTable) return;\n",
              "\n",
              "          const docLinkHtml = 'Like what you see? Visit the ' +\n",
              "            '<a target=\"_blank\" href=https://colab.research.google.com/notebooks/data_table.ipynb>data table notebook</a>'\n",
              "            + ' to learn more about interactive tables.';\n",
              "          element.innerHTML = '';\n",
              "          dataTable['output_type'] = 'display_data';\n",
              "          await google.colab.output.renderOutput(dataTable, element);\n",
              "          const docLink = document.createElement('div');\n",
              "          docLink.innerHTML = docLinkHtml;\n",
              "          element.appendChild(docLink);\n",
              "        }\n",
              "      </script>\n",
              "    </div>\n",
              "  </div>\n",
              "  "
            ],
            "text/plain": [
              "                   tm  ...                                               dsnw\n",
              "0  [2021-12-25 00:00]  ...  [[2021-12-25 00:00], [1], [104], [북강릉], [0.4],...\n",
              "1  [2021-12-25 01:00]  ...  [[2021-12-25 01:00], [2], [104], [북강릉], [0.2],...\n",
              "2  [2021-12-25 02:00]  ...  [[2021-12-25 02:00], [3], [104], [북강릉], [-0.1]...\n",
              "3  [2021-12-25 03:00]  ...  [[2021-12-25 03:00], [4], [104], [북강릉], [-0.4]...\n",
              "4  [2021-12-25 04:00]  ...  [[2021-12-25 04:00], [5], [104], [북강릉], [-0.5]...\n",
              "5  [2021-12-25 05:00]  ...  [[2021-12-25 05:00], [6], [104], [북강릉], [-0.8]...\n",
              "6  [2021-12-25 06:00]  ...  [[2021-12-25 06:00], [7], [104], [북강릉], [-1.0]...\n",
              "7  [2021-12-25 07:00]  ...  [[2021-12-25 07:00], [8], [104], [북강릉], [-2.4]...\n",
              "8  [2021-12-25 08:00]  ...  [[2021-12-25 08:00], [9], [104], [북강릉], [-2.6]...\n",
              "9  [2021-12-25 09:00]  ...  [[2021-12-25 09:00], [10], [104], [북강릉], [-3.8...\n",
              "\n",
              "[10 rows x 3 columns]"
            ]
          },
          "metadata": {},
          "execution_count": 10
        }
      ]
    },
    {
      "cell_type": "markdown",
      "source": [
        "# 날짜별 다운로드 함수"
      ],
      "metadata": {
        "id": "UXzmYE8hl2V4"
      }
    },
    {
      "cell_type": "code",
      "source": [
        "class makingParam:\n",
        "  def set_my_params(key, date, place):\n",
        "    params = f'?{parse.quote_plus(\"ServiceKey\")}={key}&' + parse.urlencode({\n",
        "        parse.quote_plus('pageNo') : '1', \n",
        "        parse.quote_plus('numOfRows') : '10', \n",
        "        parse.quote_plus('dataType') : 'XML', \n",
        "        parse.quote_plus('dataCd') : 'ASOS', \n",
        "        parse.quote_plus('dateCd') : 'HR', \n",
        "        parse.quote_plus('startDt') : date, \n",
        "        parse.quote_plus('startHh') : '00', \n",
        "        parse.quote_plus('endDt') : date+1, \n",
        "        parse.quote_plus('endHh') : '01', \n",
        "        parse.quote_plus('stnIds') : place \n",
        "    })\n",
        "  return params\n",
        "\n",
        "def download_file(year, month):  \n",
        "    # initialize the date\n",
        "    url = 'http://apis.data.go.kr/1360000/AsosHourlyInfoService/getWthrDataList'\n",
        "    key = 'SqhNwAXk7Yr%2FbTn5Fi293%2BkNasMB8X00NPpYmWg3ruCPvqgUOR6C7IWc13dkJ2N0b9DAgyLgJEcdLC%2F3xybDLw%3D%3D'\n",
        "    param = makingParam()\n",
        "    if month == 12:\n",
        "        day_count = 31\n",
        "    else:\n",
        "        day_count = (d.date(year, month+1, 1) - d.date(year, month, 1)).days\n",
        "    interval = d.timedelta(minutes=60)\n",
        "    place = 103\n",
        "\n",
        "    for i in range(0, day_count):\n",
        "        im_tensor = np.zeros((144, 10))  \n",
        "        day = i+1\n",
        "        \n",
        "        for j in range(0, 144):\n",
        "            start_date = d.datetime(year, month, day, 0, 0)\n",
        "            date_time = (start_date + j * interval)\n",
        "            datetime = date_time.strftime(\"%Y%m%d%H\")\n",
        "            my_param = param(key, datetime, place)\n",
        "            response = requests.get(url + my_param).text\n",
        "            soup = BeautifulSoup(response, 'html.parser')\n",
        "            items = soup.find_all('body > item')\n",
        "\n",
        "            for k in range(len(items)):\n",
        "              tm = soup.select('body > items > item > tm')\n",
        "        \n",
        "download_file(2022, 1) "
      ],
      "metadata": {
        "id": "PPqvyojQldub"
      },
      "execution_count": null,
      "outputs": []
    }
  ]
}